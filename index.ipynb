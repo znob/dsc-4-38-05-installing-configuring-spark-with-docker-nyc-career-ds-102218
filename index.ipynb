{
 "cells": [
  {
   "cell_type": "markdown",
   "metadata": {},
   "source": [
    "# Installing and Configuring PySpark with Docker\n",
    "\n",
    "## Introduction\n",
    "\n",
    "In addition to running on the clusters, Spark provides a simple standalone deploy mode. We can launch a standalone cluster either manually, by starting a master and workers by hand, or use our provided launch scripts. It is also possible to run these daemons on a single machine for testing. In this lesson, we'll look at installing a standalone version of Spark on Windows and Mac machines. All the required tools are open source and directly downloadable from official sites referenced in the lesson. \n",
    "\n",
    "## Objectives\n",
    "You will be able to:\n",
    "- Install Docker and Kitematic on Windows/Mac environments\n",
    "- Install a standalone version of Spark on a local server \n",
    "- Test the spark installation by running a simple test script"
   ]
  },
  {
   "cell_type": "markdown",
   "metadata": {},
   "source": [
    "## Docker\n",
    "For this section, we shall run PySpark on a single machine in a virtualized environment using __Docker__. Docker is a container technology that allows __packaging__ and __distribution__ of software  so that it takes away the headache of things like setting up environment, configuring logging, configuring options etc. Docker basically removes the excuse \"*It works on my machine*\". \n",
    "\n",
    "[Visit this link learn more about docker and containers](https://www.zdnet.com/article/what-is-docker-and-why-is-it-so-darn-popular/)"
   ]
  },
  {
   "cell_type": "markdown",
   "metadata": {},
   "source": [
    "### Install Docker and docker Toolbox\n",
    " \n",
    " \n",
    "- Download & install Docker on Mac : https://download.docker.com/mac/stable/Docker.dmg\n",
    "- Download and install Docker on Windows:  https://hub.docker.com/editions/community/docker-ce-desktop-windows\n",
    "\n",
    "In addition to Docker, we will also need to down and install the docker toolbox. \n",
    "\n",
    "- Docker Toolbox for Mac: https://docs.docker.com/toolbox/toolbox_install_mac/\n",
    "- Docker toolbox for Windows: https://docs.docker.com/toolbox/toolbox_install_windows/\n",
    "\n",
    "Visit following guides for step by step installation instructions. \n",
    "\n",
    "[Guide for installing docker toolbox on mac](https://docs.docker.com/toolbox/toolbox_install_mac/)\n",
    "\n",
    "[Guide for installing docker toolbox on windows](https://docs.docker.com/toolbox/toolbox_install_windows/)\n"
   ]
  },
  {
   "cell_type": "markdown",
   "metadata": {},
   "source": [
    "### Kitematic\n",
    "\n",
    "Docker toolbox is mainly required above for a Docker plugin called [\"Kitematic\"](https://kitematic.com/). Kitematic allows \"one click install\" of containers in Docker running on your Mac and windows and lets you control your app containers from a graphical user interface (GUI). This takes away a lot of cognitive load required to set up and configure virtual environments. "
   ]
  },
  {
   "cell_type": "markdown",
   "metadata": {},
   "source": [
    "Once Docker and Toolbox are successfully installed, we need to perform following tasks in the given sequence. \n"
   ]
  },
  {
   "cell_type": "markdown",
   "metadata": {},
   "source": [
    "### Click on the docker toolbar on mac and select Kitematic"
   ]
  },
  {
   "cell_type": "markdown",
   "metadata": {},
   "source": [
    "<img src=\"kite.png\" width=200>"
   ]
  },
  {
   "cell_type": "code",
   "execution_count": null,
   "metadata": {},
   "outputs": [],
   "source": [
    "### Sign up on docker hub \n",
    "Upon running kitematic, you will be asked to sign up on docker hub. This is optional , but recommended as it can allow to share your docker containers and run them on different machines. \n",
    "\n",
    "This option can be accessed via \"My Repos\" Section in the Kitematic GUI. \n",
    " \n",
    "<img src=\"hub.png\" width=400>"
   ]
  },
  {
   "cell_type": "markdown",
   "metadata": {},
   "source": [
    "### Search for `pyspark-notebook` repository, and click on the image provided by `jupyter` \n",
    "It is imperative to use the one from __jupyter__ for our labs to run as expected, as there are lots of other offerings available. "
   ]
  },
  {
   "cell_type": "markdown",
   "metadata": {},
   "source": [
    "![](search.png)"
   ]
  },
  {
   "cell_type": "markdown",
   "metadata": {},
   "source": [
    "Run the repo when it is downloaded, it will start an `ipython-kernel`. To run jupyter notebooks , click on the right half of kitematic where it says \"web preview\"."
   ]
  },
  {
   "cell_type": "markdown",
   "metadata": {},
   "source": [
    "![](click.png)"
   ]
  },
  {
   "cell_type": "markdown",
   "metadata": {},
   "source": [
    "This will open a browser window asking you for a token ID. Go back to the kitematic and check the left bottom of terminal-like screen for string that says: `token?= --- ` as shown above . Copy the text after that and put it into the jupyter notebook page.\n"
   ]
  },
  {
   "cell_type": "markdown",
   "metadata": {},
   "source": [
    "![](token.png)\n"
   ]
  },
  {
   "cell_type": "markdown",
   "metadata": {},
   "source": [
    "This will open a new jupyter notebook , like we've seen before. We are now ready to program in spark.  "
   ]
  },
  {
   "cell_type": "markdown",
   "metadata": {},
   "source": [
    "## Testing the installation"
   ]
  },
  {
   "cell_type": "markdown",
   "metadata": {},
   "source": [
    "In order to make sure everything went smooth, Let's run a simple script in a new jupyter notebook. "
   ]
  },
  {
   "cell_type": "markdown",
   "metadata": {},
   "source": [
    "```python\n",
    "import pyspark\n",
    "sc = pyspark.SparkContext('local[*]')\n",
    "rdd = sc.parallelize(range(1000))\n",
    "rdd.takeSample(False, 5)\n",
    "```"
   ]
  },
  {
   "cell_type": "markdown",
   "metadata": {},
   "source": [
    "If everything went fine , you should see an out like this:\n",
    "```\n",
    "[941, 60, 987, 542, 718]\n",
    "```\n",
    "\n",
    "Do not worry if you dont fully comprehend what above meant. NExt we will look into some basic programming principles and methods from Spark which will explain this. "
   ]
  },
  {
   "cell_type": "markdown",
   "metadata": {},
   "source": [
    "## Summary \n",
    "\n",
    "In this lesson, we looked at installing Spark using Docker container. The process works same for both MAc and Windows based systems. Make sure to follow all steps in the given sequence. "
   ]
  }
 ],
 "metadata": {
  "kernelspec": {
   "display_name": "Python 3",
   "language": "python",
   "name": "python3"
  },
  "language_info": {
   "codemirror_mode": {
    "name": "ipython",
    "version": 3
   },
   "file_extension": ".py",
   "mimetype": "text/x-python",
   "name": "python",
   "nbconvert_exporter": "python",
   "pygments_lexer": "ipython3",
   "version": "3.6.6"
  }
 },
 "nbformat": 4,
 "nbformat_minor": 2
}
